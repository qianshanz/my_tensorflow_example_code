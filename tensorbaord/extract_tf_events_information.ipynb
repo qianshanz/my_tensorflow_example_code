{
 "cells": [
  {
   "cell_type": "code",
   "execution_count": 4,
   "metadata": {},
   "outputs": [],
   "source": [
    "from pprint import pprint\n",
    "from tensorboard.backend.event_processing import event_accumulator"
   ]
  },
  {
   "cell_type": "code",
   "execution_count": 3,
   "metadata": {},
   "outputs": [
    {
     "name": "stdout",
     "output_type": "stream",
     "text": [
      "['evaluation/losses', 'evaluation/skl_class_0_precision', 'evaluation/skl_class_0_recall', 'evaluation/skl_class_1_precision', 'evaluation/skl_class_1_recall', 'evaluation/macro_avg_precision', 'evaluation/macro_avg_recall', 'evaluation/weighted_avg_precision', 'evaluation/weighted_avg_recall', 'evaluation/cohen_kappa_score', 'evaluation/class_1_F1']\n"
     ]
    }
   ],
   "source": [
    "ea=event_accumulator.EventAccumulator('events.out.tfevents.1573294219.hhw-001') \n",
    "ea.Reload()\n"
   ]
  },
  {
   "cell_type": "markdown",
   "metadata": {},
   "source": [
    "## list scalar keys"
   ]
  },
  {
   "cell_type": "code",
   "execution_count": 5,
   "metadata": {},
   "outputs": [
    {
     "name": "stdout",
     "output_type": "stream",
     "text": [
      "scalar keys: \n",
      "['evaluation/losses',\n",
      " 'evaluation/skl_class_0_precision',\n",
      " 'evaluation/skl_class_0_recall',\n",
      " 'evaluation/skl_class_1_precision',\n",
      " 'evaluation/skl_class_1_recall',\n",
      " 'evaluation/macro_avg_precision',\n",
      " 'evaluation/macro_avg_recall',\n",
      " 'evaluation/weighted_avg_precision',\n",
      " 'evaluation/weighted_avg_recall',\n",
      " 'evaluation/cohen_kappa_score',\n",
      " 'evaluation/class_1_F1']\n"
     ]
    }
   ],
   "source": [
    "print('scalar keys: ')\n",
    "pprint(ea.scalars.Keys())"
   ]
  },
  {
   "cell_type": "code",
   "execution_count": 13,
   "metadata": {},
   "outputs": [
    {
     "name": "stdout",
     "output_type": "stream",
     "text": [
      "1\n",
      "<class 'tensorboard.backend.event_processing.event_accumulator.ScalarEvent'>\n",
      "ScalarEvent(wall_time=1573294219.614025, step=2189407, value=0.2919852137565613)\n",
      "[(1573294219.614025, 2189407, 0.2919852137565613)]\n"
     ]
    }
   ],
   "source": [
    "# print < evaluation/losses>\n",
    "val_acc=ea.scalars.Items('evaluation/losses')\n",
    "\n",
    "print(len(val_acc))\n",
    "print(type(val_acc[0]))\n",
    "print(val_acc[0])\n",
    "print([(i.wall_time, i.step,i.value) for i in val_acc])"
   ]
  },
  {
   "cell_type": "code",
   "execution_count": null,
   "metadata": {},
   "outputs": [],
   "source": []
  }
 ],
 "metadata": {
  "kernelspec": {
   "display_name": "Python 3",
   "language": "python",
   "name": "python3"
  },
  "language_info": {
   "codemirror_mode": {
    "name": "ipython",
    "version": 3
   },
   "file_extension": ".py",
   "mimetype": "text/x-python",
   "name": "python",
   "nbconvert_exporter": "python",
   "pygments_lexer": "ipython3",
   "version": "3.7.3"
  }
 },
 "nbformat": 4,
 "nbformat_minor": 2
}
